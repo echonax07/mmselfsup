{
 "cells": [
  {
   "cell_type": "code",
   "execution_count": null,
   "metadata": {},
   "outputs": [],
   "source": [
    "# test file 2 \n",
    "python tools/analysis_tools/visualize_reconstruction.py $1  --use-vis-pipeline --checkpoint $CHECKPOINT --img-path \"/home/m32patel/projects/def-dclausi/AI4arctic/dataset/ai4arctic_raw_test_v3/S1A_EW_GRDM_1SDH_20210430T205436_20210430T205537_037685_047252_CBB0_icechart_dmi_202104302055_SouthWest_RIC.nc\"  --out-file \"work_dirs/selfsup/$base_name/20210430T205436\""
   ]
  }
 ],
 "metadata": {
  "language_info": {
   "name": "python"
  }
 },
 "nbformat": 4,
 "nbformat_minor": 2
}
